{
 "cells": [
  {
   "cell_type": "markdown",
   "metadata": {},
   "source": [
    "Assignment # 3"
   ]
  },
  {
   "cell_type": "code",
   "execution_count": 1,
   "metadata": {},
   "outputs": [
    {
     "name": "stdout",
     "output_type": "stream",
     "text": [
      "case : 1\n",
      "Enter key(int) to be added: 2\n",
      "Enter value for the key to be added: 2\n",
      "updated dictionary is :\n",
      "{2: 2}\n",
      "case : 2\n",
      "Enter key(int) to be added: 2\n",
      "Enter value for the key to be added: 2\n",
      "updated dictionary is :\n",
      "{2: 2}\n"
     ]
    }
   ],
   "source": [
    "for i in range(1,3):\n",
    "    print(\"case :\", i )\n",
    "    key = int(input(\"Enter key(int) to be added: \"))\n",
    "    value = int(input(\"Enter value for the key to be added: \"))\n",
    "    data = {}\n",
    "    data.update({key:value})\n",
    "    print(\"updated dictionary is :\")\n",
    "    print(data)"
   ]
  },
  {
   "cell_type": "code",
   "execution_count": 2,
   "metadata": {},
   "outputs": [
    {
     "name": "stdout",
     "output_type": "stream",
     "text": [
      "Case 1:\n",
      "{'A': 1, 'C': 3, 'B': 2}\n"
     ]
    }
   ],
   "source": [
    "data1 = {'A':1}\n",
    "data2 = {'C':3, \n",
    "        'B':2}\n",
    "data1.update(data2)\n",
    "print(\"Case 1:\")\n",
    "print(data1)"
   ]
  },
  {
   "cell_type": "code",
   "execution_count": 3,
   "metadata": {},
   "outputs": [
    {
     "name": "stdout",
     "output_type": "stream",
     "text": [
      "case : 1\n",
      "Enter key to check: 3\n",
      "key isnt present!\n",
      "case : 2\n",
      "Enter key to check: 2\n",
      "key isnt present!\n"
     ]
    }
   ],
   "source": [
    "\n",
    "for i in range(1,3):\n",
    "    print(\"case :\", i )\n",
    "    data1 = {\n",
    "        'A':1,\n",
    "        'B':2,\n",
    "        'C':3\n",
    "    }\n",
    "    \n",
    "    key = input(\"Enter key to check: \")\n",
    "    if (key in data1.keys()):\n",
    "        print(\"key is present and the value of key is:\")\n",
    "        print(data1[key])\n",
    "    else:\n",
    "        print(\"key isnt present!\")"
   ]
  },
  {
   "cell_type": "code",
   "execution_count": 4,
   "metadata": {},
   "outputs": [
    {
     "name": "stdout",
     "output_type": "stream",
     "text": [
      "case : 1\n",
      "Enter a number: 3\n",
      "{1: 1, 2: 4, 3: 9}\n",
      "case : 2\n",
      "Enter a number: 2\n",
      "{1: 1, 2: 4}\n"
     ]
    }
   ],
   "source": [
    "for i in range(1,3):\n",
    "    print(\"case :\", i )\n",
    "    var1 = int (input(\"Enter a number: \"))\n",
    "    data = { i: i*i for i in range(1, var1+1)}\n",
    "    print(data)"
   ]
  },
  {
   "cell_type": "code",
   "execution_count": 5,
   "metadata": {},
   "outputs": [
    {
     "name": "stdout",
     "output_type": "stream",
     "text": [
      "Total sum of values in the dictionary:\n",
      "125\n"
     ]
    }
   ],
   "source": [
    "data = {'A': 100,\n",
    "       'B': 25\n",
    "       }\n",
    "sum = 0\n",
    "for i in data:\n",
    "    sum = sum + data[i]\n",
    "print(\"Total sum of values in the dictionary:\")   \n",
    "print(sum)"
   ]
  },
  {
   "cell_type": "code",
   "execution_count": 6,
   "metadata": {},
   "outputs": [
    {
     "name": "stdout",
     "output_type": "stream",
     "text": [
      "3000\n"
     ]
    }
   ],
   "source": [
    "data = {'A': 100,\n",
    "       'B': 2,\n",
    "        'C': 5,\n",
    "        'D':3\n",
    "       }\n",
    "mul = 1\n",
    "for i in data:\n",
    "    mul = mul * data[i]\n",
    "print(mul)"
   ]
  },
  {
   "cell_type": "code",
   "execution_count": 7,
   "metadata": {},
   "outputs": [
    {
     "name": "stdout",
     "output_type": "stream",
     "text": [
      "case : 1\n",
      "initial dictionary {'a': 1, 'c': 3, 'b': 2, 'd': 4}\n",
      "Enter the key to delete(a-d):2\n",
      "Key not found!\n",
      "case : 2\n",
      "initial dictionary {'a': 1, 'c': 3, 'b': 2, 'd': 4}\n",
      "Enter the key to delete(a-d):3\n",
      "Key not found!\n"
     ]
    }
   ],
   "source": [
    "for i in range(1,3):\n",
    "    print(\"case :\", i )\n",
    "    data = {'a':1, 'c':3,'b':2,'d':4}\n",
    "    print(\"initial dictionary\",data)\n",
    "    key = input(\"Enter the key to delete(a-d):\")\n",
    "    if(key in data.keys()):\n",
    "        data.pop(key)\n",
    "        print(\"updated dictionary:\",data)\n",
    "    else: \n",
    "        print(\"Key not found!\")"
   ]
  },
  {
   "cell_type": "code",
   "execution_count": 1,
   "metadata": {},
   "outputs": [
    {
     "name": "stdout",
     "output_type": "stream",
     "text": [
      "Enter number of elements for dictionary:3\n",
      "For keys:\n",
      "Enter element 1:1\n",
      "Enter element 2:1\n",
      "Enter element 3:2\n",
      "For values:\n",
      "Enter element1:3\n",
      "Enter element2:4\n",
      "Enter element3:1\n",
      "The dictionary is:\n",
      "{1: 4, 2: 1}\n"
     ]
    }
   ],
   "source": [
    "keys=[]\n",
    "values=[]\n",
    "n=int(input(\"Enter number of elements for dictionary:\"))\n",
    "print(\"For keys:\")\n",
    "for x in range(1,n+1):\n",
    "    element=int(input(\"Enter element \"+str(x)+ \":\"))\n",
    "    keys.append(element)\n",
    "print(\"For values:\")\n",
    "for x in range(1,n+1):\n",
    "    element=int(input(\"Enter element\"+str(x)+\":\"))\n",
    "    values.append(element)\n",
    "d=dict(zip(keys,values))\n",
    "print(\"The dictionary is:\")\n",
    "print(d)"
   ]
  },
  {
   "cell_type": "code",
   "execution_count": 2,
   "metadata": {},
   "outputs": [
    {
     "name": "stdout",
     "output_type": "stream",
     "text": [
      "case : 1\n",
      "Enter string:AyeshaDawood\n",
      "['AyeshaDawood']\n",
      "{'AyeshaDawood': 1}\n",
      "case : 2\n",
      "Enter string:helloworld\n",
      "['helloworld']\n",
      "{'helloworld': 1}\n"
     ]
    }
   ],
   "source": [
    "for i in range(1,3):\n",
    "    print(\"case :\", i )\n",
    "    var1=input(\"Enter string:\")\n",
    "    list1=[]\n",
    "    list1=var1.split()\n",
    "    print(list1)\n",
    "    count_word_freq=[list1.count(i) for i in list1] # count function returns the number of times an objet occurs in the list\n",
    "    print(dict(zip(list1,count_word_freq)))"
   ]
  },
  {
   "cell_type": "code",
   "execution_count": 3,
   "metadata": {},
   "outputs": [
    {
     "name": "stdout",
     "output_type": "stream",
     "text": [
      "case : 1\n",
      "Enter string: Ayesha\n",
      "['Ayesha']\n",
      "( ' A ' : ['Ayesha'] )\n",
      "case : 2\n",
      "Enter string: Dawood\n",
      "['Dawood']\n",
      "( ' D ' : ['Dawood'] )\n"
     ]
    }
   ],
   "source": [
    "for i in range(1,3):\n",
    "    print(\"case :\", i )\n",
    "    var1 = input(\"Enter string: \")\n",
    "    data = {}\n",
    "    list1 =[]\n",
    "    list2 = []\n",
    "    list1 = var1.split()\n",
    "    print(list1)\n",
    "    for word in list1:\n",
    "\n",
    "        if(word[0] not in data.keys()):\n",
    "            data[word[0]]=[] # give key first character empty list value\n",
    "            data[word[0]].append(word) # assign value to key\n",
    "        else:\n",
    "            if(word[0] in data.keys()):\n",
    "                data[word[0]].append(word)\n",
    "   \n",
    "    for key, value in data.items():\n",
    "        print(\"(\",\"'\",key,\"'\",\":\", value,\")\")"
   ]
  }
 ],
 "metadata": {
  "kernelspec": {
   "display_name": "Python 3",
   "language": "python",
   "name": "python3"
  },
  "language_info": {
   "codemirror_mode": {
    "name": "ipython",
    "version": 3
   },
   "file_extension": ".py",
   "mimetype": "text/x-python",
   "name": "python",
   "nbconvert_exporter": "python",
   "pygments_lexer": "ipython3",
   "version": "3.7.2"
  }
 },
 "nbformat": 4,
 "nbformat_minor": 4
}
