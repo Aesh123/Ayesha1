{
 "cells": [
  {
   "cell_type": "markdown",
   "metadata": {},
   "source": [
    "Assignment Python #Timing 9-12\n",
    "String Builtin Function # 24-11-2019"
   ]
  },
  {
   "cell_type": "code",
   "execution_count": 45,
   "metadata": {},
   "outputs": [
    {
     "data": {
      "text/plain": [
       "['__add__',\n",
       " '__class__',\n",
       " '__contains__',\n",
       " '__delattr__',\n",
       " '__dir__',\n",
       " '__doc__',\n",
       " '__eq__',\n",
       " '__format__',\n",
       " '__ge__',\n",
       " '__getattribute__',\n",
       " '__getitem__',\n",
       " '__getnewargs__',\n",
       " '__gt__',\n",
       " '__hash__',\n",
       " '__init__',\n",
       " '__init_subclass__',\n",
       " '__iter__',\n",
       " '__le__',\n",
       " '__len__',\n",
       " '__lt__',\n",
       " '__mod__',\n",
       " '__mul__',\n",
       " '__ne__',\n",
       " '__new__',\n",
       " '__reduce__',\n",
       " '__reduce_ex__',\n",
       " '__repr__',\n",
       " '__rmod__',\n",
       " '__rmul__',\n",
       " '__setattr__',\n",
       " '__sizeof__',\n",
       " '__str__',\n",
       " '__subclasshook__',\n",
       " 'capitalize',\n",
       " 'casefold',\n",
       " 'center',\n",
       " 'count',\n",
       " 'encode',\n",
       " 'endswith',\n",
       " 'expandtabs',\n",
       " 'find',\n",
       " 'format',\n",
       " 'format_map',\n",
       " 'index',\n",
       " 'isalnum',\n",
       " 'isalpha',\n",
       " 'isascii',\n",
       " 'isdecimal',\n",
       " 'isdigit',\n",
       " 'isidentifier',\n",
       " 'islower',\n",
       " 'isnumeric',\n",
       " 'isprintable',\n",
       " 'isspace',\n",
       " 'istitle',\n",
       " 'isupper',\n",
       " 'join',\n",
       " 'ljust',\n",
       " 'lower',\n",
       " 'lstrip',\n",
       " 'maketrans',\n",
       " 'partition',\n",
       " 'replace',\n",
       " 'rfind',\n",
       " 'rindex',\n",
       " 'rjust',\n",
       " 'rpartition',\n",
       " 'rsplit',\n",
       " 'rstrip',\n",
       " 'split',\n",
       " 'splitlines',\n",
       " 'startswith',\n",
       " 'strip',\n",
       " 'swapcase',\n",
       " 'title',\n",
       " 'translate',\n",
       " 'upper',\n",
       " 'zfill']"
      ]
     },
     "execution_count": 45,
     "metadata": {},
     "output_type": "execute_result"
    }
   ],
   "source": [
    "n='Ayesha Dawood'\n",
    "dir(n)"
   ]
  },
  {
   "cell_type": "code",
   "execution_count": 46,
   "metadata": {},
   "outputs": [
    {
     "name": "stdout",
     "output_type": "stream",
     "text": [
      "Ayesha Dawood\n",
      "Ayesha dawood\n"
     ]
    }
   ],
   "source": [
    "name='Ayesha Dawood'\n",
    "print(name)\n",
    "print(name.capitalize()) #Only capitalize 1 character of string"
   ]
  },
  {
   "cell_type": "code",
   "execution_count": 47,
   "metadata": {},
   "outputs": [
    {
     "name": "stdout",
     "output_type": "stream",
     "text": [
      "ayesha dawood\n"
     ]
    }
   ],
   "source": [
    "name='Ayesha Dawood'\n",
    "print(name.casefold()) #lower all character of string"
   ]
  },
  {
   "cell_type": "code",
   "execution_count": 48,
   "metadata": {},
   "outputs": [
    {
     "name": "stdout",
     "output_type": "stream",
     "text": [
      "             Ayesha Dawood              \n"
     ]
    }
   ],
   "source": [
    "name='Ayesha Dawood'\n",
    "print(name.center(40)) #taking space of 40 character and pring name in the middle"
   ]
  },
  {
   "cell_type": "code",
   "execution_count": 49,
   "metadata": {},
   "outputs": [
    {
     "name": "stdout",
     "output_type": "stream",
     "text": [
      "2\n"
     ]
    }
   ],
   "source": [
    "name='Ayesha Dawood'\n",
    "print(name.count('a')) #print total number of a character like 'a'\n"
   ]
  },
  {
   "cell_type": "code",
   "execution_count": 50,
   "metadata": {},
   "outputs": [
    {
     "name": "stdout",
     "output_type": "stream",
     "text": [
      "b'Ayesha Dawood'\n"
     ]
    }
   ],
   "source": [
    "name='Ayesha Dawood'\n",
    "print(name.encode()) #encode the string"
   ]
  },
  {
   "cell_type": "code",
   "execution_count": 51,
   "metadata": {},
   "outputs": [
    {
     "name": "stdout",
     "output_type": "stream",
     "text": [
      "False\n"
     ]
    }
   ],
   "source": [
    "name='Ayesha Dawood'\n",
    "print(name.endswith('l')) #compare with end character of string and reture true or false"
   ]
  },
  {
   "cell_type": "code",
   "execution_count": 52,
   "metadata": {},
   "outputs": [
    {
     "name": "stdout",
     "output_type": "stream",
     "text": [
      "A  esha Dawood\n"
     ]
    }
   ],
   "source": [
    "name='A\\tesha Dawood'\n",
    "print(name.expandtabs(3)) #space between the character"
   ]
  },
  {
   "cell_type": "code",
   "execution_count": 53,
   "metadata": {},
   "outputs": [
    {
     "name": "stdout",
     "output_type": "stream",
     "text": [
      "-1\n"
     ]
    }
   ],
   "source": [
    "name='Ayesha Dawood'\n",
    "print(name.find('m')) #return the index of find character"
   ]
  },
  {
   "cell_type": "code",
   "execution_count": 54,
   "metadata": {},
   "outputs": [
    {
     "name": "stdout",
     "output_type": "stream",
     "text": [
      "My Name is Ayesha Dawood\n"
     ]
    }
   ],
   "source": [
    "name='My Name is {fname} {lname}'\n",
    "print(name.format(fname='Ayesha',lname='Dawood')) #Insert the fname and lname inside the placeholder{}, the fname and lname should be in fixed point"
   ]
  },
  {
   "cell_type": "code",
   "execution_count": 55,
   "metadata": {},
   "outputs": [
    {
     "name": "stdout",
     "output_type": "stream",
     "text": [
      "Ayesha Dawood\n"
     ]
    }
   ],
   "source": [
    "name={'fname':'Ayesha', 'lname':'Dawood'}\n",
    "print('{fname} {lname}'.format_map(name))"
   ]
  },
  {
   "cell_type": "code",
   "execution_count": 56,
   "metadata": {},
   "outputs": [
    {
     "name": "stdout",
     "output_type": "stream",
     "text": [
      "7\n"
     ]
    }
   ],
   "source": [
    "name= 'Ayesha Dawood'\n",
    " \n",
    "print(name.index('D'))  #return the index of specific character"
   ]
  },
  {
   "cell_type": "code",
   "execution_count": 57,
   "metadata": {},
   "outputs": [
    {
     "name": "stdout",
     "output_type": "stream",
     "text": [
      "True\n"
     ]
    }
   ],
   "source": [
    "name='AyeshaDawood43' \n",
    "print(name.isalnum()) #return if string is alphanumeic or not e.g character and number"
   ]
  },
  {
   "cell_type": "code",
   "execution_count": 58,
   "metadata": {},
   "outputs": [
    {
     "name": "stdout",
     "output_type": "stream",
     "text": [
      "False\n"
     ]
    }
   ],
   "source": [
    "name='Ayesha Dawood'\n",
    "print(name.isalpha()) #return true of false if string have all alphabets without space"
   ]
  },
  {
   "cell_type": "code",
   "execution_count": 59,
   "metadata": {},
   "outputs": [
    {
     "name": "stdout",
     "output_type": "stream",
     "text": [
      "True\n"
     ]
    }
   ],
   "source": [
    "name='Ayesha Dawood' \n",
    "print(name.isascii())"
   ]
  },
  {
   "cell_type": "code",
   "execution_count": 60,
   "metadata": {},
   "outputs": [
    {
     "name": "stdout",
     "output_type": "stream",
     "text": [
      "False\n"
     ]
    }
   ],
   "source": [
    "name='Ayesha Dawood' \n",
    "print(name.isdecimal()) #return if string have any decimal value"
   ]
  },
  {
   "cell_type": "code",
   "execution_count": 61,
   "metadata": {},
   "outputs": [
    {
     "name": "stdout",
     "output_type": "stream",
     "text": [
      "False\n"
     ]
    }
   ],
   "source": [
    "name='Ayesha Dawood' \n",
    "print(name.isdigit()) #return if string have any digits"
   ]
  },
  {
   "cell_type": "code",
   "execution_count": 62,
   "metadata": {},
   "outputs": [
    {
     "name": "stdout",
     "output_type": "stream",
     "text": [
      "True\n"
     ]
    }
   ],
   "source": [
    "name='AyeshaDawood'\n",
    "print(name.isidentifier()) #return true or false if string have some identifier like start with _,or no space between word"
   ]
  },
  {
   "cell_type": "code",
   "execution_count": 63,
   "metadata": {},
   "outputs": [
    {
     "name": "stdout",
     "output_type": "stream",
     "text": [
      "False\n"
     ]
    }
   ],
   "source": [
    "name='Ayesha Dawood'\n",
    "print(name.islower()) #return true or false if string have all characters are lower case"
   ]
  },
  {
   "cell_type": "code",
   "execution_count": 64,
   "metadata": {},
   "outputs": [
    {
     "name": "stdout",
     "output_type": "stream",
     "text": [
      "False\n",
      "True\n"
     ]
    }
   ],
   "source": [
    "name='Ayesha Dawood'\n",
    "print(name.isnumeric())\n",
    "number='12'\n",
    "print(number.isnumeric()) #return true or false if string have all characters are numeric"
   ]
  },
  {
   "cell_type": "code",
   "execution_count": 65,
   "metadata": {},
   "outputs": [
    {
     "name": "stdout",
     "output_type": "stream",
     "text": [
      "True\n"
     ]
    }
   ],
   "source": [
    "name='Ayesha Dawood'\n",
    "print(name.isprintable()) #return true or false if string have all characters are printable"
   ]
  },
  {
   "cell_type": "code",
   "execution_count": 66,
   "metadata": {},
   "outputs": [
    {
     "name": "stdout",
     "output_type": "stream",
     "text": [
      "False\n",
      "True\n"
     ]
    }
   ],
   "source": [
    "name='Ayesha Dawood'\n",
    "print(name.isspace())\n",
    "name='  '\n",
    "print(name.isspace())  #returns True if all the characters in a string are whitespaces, otherwise False"
   ]
  },
  {
   "cell_type": "code",
   "execution_count": 67,
   "metadata": {},
   "outputs": [
    {
     "name": "stdout",
     "output_type": "stream",
     "text": [
      "True\n"
     ]
    }
   ],
   "source": [
    "name='Ayesha Dawood'\n",
    "print(name.istitle()) #return true or false if each word start with an upper case letter"
   ]
  },
  {
   "cell_type": "code",
   "execution_count": 68,
   "metadata": {},
   "outputs": [
    {
     "name": "stdout",
     "output_type": "stream",
     "text": [
      "False\n",
      "True\n"
     ]
    }
   ],
   "source": [
    "name='Ayesha Dawood'\n",
    "print(name.isupper())\n",
    "name='AYEHSA DAWOOD'\n",
    "print(name.isupper())  #return true or false if whole string will have upper case letter"
   ]
  },
  {
   "cell_type": "code",
   "execution_count": 69,
   "metadata": {},
   "outputs": [
    {
     "name": "stdout",
     "output_type": "stream",
     "text": [
      "Ayesha  Dawood\n"
     ]
    }
   ],
   "source": [
    "name={'Ayesha','Dawood'}\n",
    "print('  '.join(name)) #method takes all items in an iterable and joins them into one string. A string must be specified as the separator."
   ]
  },
  {
   "cell_type": "code",
   "execution_count": 70,
   "metadata": {},
   "outputs": [
    {
     "name": "stdout",
     "output_type": "stream",
     "text": [
      "Ayesha               Dawood\n"
     ]
    }
   ],
   "source": [
    "name='Ayesha '\n",
    "name1=name.ljust(20)\n",
    "print(name1,\"Dawood\")  #return 20 character space from left justified"
   ]
  },
  {
   "cell_type": "code",
   "execution_count": 71,
   "metadata": {},
   "outputs": [
    {
     "name": "stdout",
     "output_type": "stream",
     "text": [
      "ayesha dawood\n"
     ]
    }
   ],
   "source": [
    "name='Ayesha Dawood'\n",
    "print(name.lower())  #return all character in lower case"
   ]
  },
  {
   "cell_type": "code",
   "execution_count": 72,
   "metadata": {},
   "outputs": [
    {
     "name": "stdout",
     "output_type": "stream",
     "text": [
      "   Ayesha dawood   \n",
      "Ayesha dawood   \n"
     ]
    }
   ],
   "source": [
    "name='   Ayesha dawood   '\n",
    "print(name)\n",
    "name='   Ayesha dawood   '\n",
    "print(name.lstrip())   #remove space for letf side"
   ]
  },
  {
   "cell_type": "code",
   "execution_count": 73,
   "metadata": {},
   "outputs": [
    {
     "name": "stdout",
     "output_type": "stream",
     "text": [
      "('Ayesha Dawood', '', '')\n"
     ]
    }
   ],
   "source": [
    "name='Ayesha Dawood'\n",
    "\n",
    "print(name.partition('Khalid'))  #return a tuple"
   ]
  },
  {
   "cell_type": "code",
   "execution_count": 74,
   "metadata": {},
   "outputs": [
    {
     "name": "stdout",
     "output_type": "stream",
     "text": [
      "Ayesha Dawood\n"
     ]
    }
   ],
   "source": [
    "name='Ayesha Dawood'\n",
    "print(name.replace('Nauman','Nomi'))  #replace the word to another word"
   ]
  },
  {
   "cell_type": "code",
   "execution_count": 75,
   "metadata": {},
   "outputs": [
    {
     "name": "stdout",
     "output_type": "stream",
     "text": [
      "12\n"
     ]
    }
   ],
   "source": [
    "name='Ayesha Dawood'\n",
    "print(name.rfind('d')) #return the index almost rindex(),if value not found return -1\n"
   ]
  },
  {
   "cell_type": "code",
   "execution_count": 76,
   "metadata": {},
   "outputs": [
    {
     "name": "stdout",
     "output_type": "stream",
     "text": [
      "7\n"
     ]
    }
   ],
   "source": [
    "name='Ayesha Dawood'\n",
    "print(name.rindex('D')) #return the index almost rindex(),if value not found return error\n"
   ]
  },
  {
   "cell_type": "code",
   "execution_count": 77,
   "metadata": {},
   "outputs": [
    {
     "name": "stdout",
     "output_type": "stream",
     "text": [
      "            Ayesha Dawood\n"
     ]
    }
   ],
   "source": [
    "name='Ayesha Dawood'\n",
    "print(name.rjust(25)) #return a justified version of string"
   ]
  },
  {
   "cell_type": "code",
   "execution_count": 78,
   "metadata": {},
   "outputs": [
    {
     "name": "stdout",
     "output_type": "stream",
     "text": [
      "('Ayesha ', 'Dawood', '')\n"
     ]
    }
   ],
   "source": [
    "name='Ayesha Dawood'\n",
    "print(name.rpartition('Dawood'))"
   ]
  },
  {
   "cell_type": "code",
   "execution_count": 79,
   "metadata": {},
   "outputs": [
    {
     "name": "stdout",
     "output_type": "stream",
     "text": [
      "['Ayesha', 'Dawood']\n"
     ]
    }
   ],
   "source": [
    "name='Ayesha Dawood'\n",
    "print(name.rsplit()) #return in list"
   ]
  },
  {
   "cell_type": "code",
   "execution_count": 80,
   "metadata": {},
   "outputs": [
    {
     "name": "stdout",
     "output_type": "stream",
     "text": [
      "Ayesha Dawood\n"
     ]
    }
   ],
   "source": [
    "name='Ayesha Dawood'\n",
    "print(name.rstrip())"
   ]
  },
  {
   "cell_type": "code",
   "execution_count": 81,
   "metadata": {},
   "outputs": [
    {
     "name": "stdout",
     "output_type": "stream",
     "text": [
      "['Ayesha', 'Dawood']\n"
     ]
    }
   ],
   "source": [
    "name='Ayesha Dawood'\n",
    "print(name.split())"
   ]
  },
  {
   "cell_type": "code",
   "execution_count": 82,
   "metadata": {},
   "outputs": [
    {
     "name": "stdout",
     "output_type": "stream",
     "text": [
      "['Ayesha Dawood']\n"
     ]
    }
   ],
   "source": [
    "name='Ayesha Dawood'\n",
    "print(name.splitlines()) #return a single work list"
   ]
  },
  {
   "cell_type": "code",
   "execution_count": 83,
   "metadata": {},
   "outputs": [
    {
     "name": "stdout",
     "output_type": "stream",
     "text": [
      "False\n",
      "False\n"
     ]
    }
   ],
   "source": [
    "name='Ayesha Dawood'\n",
    "print(name.startswith('N'))\n",
    "name='Nauman Khalid'\n",
    "print(name.startswith('K')) #return true or false if the given character are starting character of whole string"
   ]
  },
  {
   "cell_type": "code",
   "execution_count": 84,
   "metadata": {},
   "outputs": [
    {
     "name": "stdout",
     "output_type": "stream",
     "text": [
      "Ayesha Dawood\n"
     ]
    }
   ],
   "source": [
    "name='Ayesha Dawood'\n",
    "print(name.strip())"
   ]
  },
  {
   "cell_type": "code",
   "execution_count": 85,
   "metadata": {},
   "outputs": [
    {
     "name": "stdout",
     "output_type": "stream",
     "text": [
      "aYESHA dAWOOD\n"
     ]
    }
   ],
   "source": [
    "name='Ayesha Dawood'\n",
    "print(name.swapcase())  #return first character of every work in lower and other whole string will be UPPER case"
   ]
  },
  {
   "cell_type": "code",
   "execution_count": 86,
   "metadata": {},
   "outputs": [
    {
     "name": "stdout",
     "output_type": "stream",
     "text": [
      "Ayesha Dawood\n"
     ]
    }
   ],
   "source": [
    "name='Ayesha Dawood'\n",
    "print(name.title()) #convert the first character of every word in UPPER Case"
   ]
  },
  {
   "cell_type": "code",
   "execution_count": 87,
   "metadata": {},
   "outputs": [
    {
     "name": "stdout",
     "output_type": "stream",
     "text": [
      "AYESHA DAWOOD\n"
     ]
    }
   ],
   "source": [
    "name='Ayesha Dawood'\n",
    "print(name.upper()) #return the whole string in upper case"
   ]
  },
  {
   "cell_type": "code",
   "execution_count": 88,
   "metadata": {},
   "outputs": [
    {
     "name": "stdout",
     "output_type": "stream",
     "text": [
      "0Ayesha Dawood\n"
     ]
    }
   ],
   "source": [
    "name='Ayesha Dawood'\n",
    "print(name.zfill(14)) #add zeros after the total character of string with includes spaces"
   ]
  }
 ],
 "metadata": {
  "kernelspec": {
   "display_name": "Python 3",
   "language": "python",
   "name": "python3"
  },
  "language_info": {
   "codemirror_mode": {
    "name": "ipython",
    "version": 3
   },
   "file_extension": ".py",
   "mimetype": "text/x-python",
   "name": "python",
   "nbconvert_exporter": "python",
   "pygments_lexer": "ipython3",
   "version": "3.7.2"
  }
 },
 "nbformat": 4,
 "nbformat_minor": 4
}
