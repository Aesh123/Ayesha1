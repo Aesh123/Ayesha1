{
 "cells": [
  {
   "cell_type": "markdown",
   "metadata": {},
   "source": [
    "Assignment Python #Timing 9-12\n",
    "String Builtin Function # 24-11-2019"
   ]
  },
  {
   "cell_type": "code",
   "execution_count": 3,
   "metadata": {},
   "outputs": [
    {
     "data": {
      "text/plain": [
       "['__add__',\n",
       " '__class__',\n",
       " '__contains__',\n",
       " '__delattr__',\n",
       " '__dir__',\n",
       " '__doc__',\n",
       " '__eq__',\n",
       " '__format__',\n",
       " '__ge__',\n",
       " '__getattribute__',\n",
       " '__getitem__',\n",
       " '__getnewargs__',\n",
       " '__gt__',\n",
       " '__hash__',\n",
       " '__init__',\n",
       " '__init_subclass__',\n",
       " '__iter__',\n",
       " '__le__',\n",
       " '__len__',\n",
       " '__lt__',\n",
       " '__mod__',\n",
       " '__mul__',\n",
       " '__ne__',\n",
       " '__new__',\n",
       " '__reduce__',\n",
       " '__reduce_ex__',\n",
       " '__repr__',\n",
       " '__rmod__',\n",
       " '__rmul__',\n",
       " '__setattr__',\n",
       " '__sizeof__',\n",
       " '__str__',\n",
       " '__subclasshook__',\n",
       " 'capitalize',\n",
       " 'casefold',\n",
       " 'center',\n",
       " 'count',\n",
       " 'encode',\n",
       " 'endswith',\n",
       " 'expandtabs',\n",
       " 'find',\n",
       " 'format',\n",
       " 'format_map',\n",
       " 'index',\n",
       " 'isalnum',\n",
       " 'isalpha',\n",
       " 'isascii',\n",
       " 'isdecimal',\n",
       " 'isdigit',\n",
       " 'isidentifier',\n",
       " 'islower',\n",
       " 'isnumeric',\n",
       " 'isprintable',\n",
       " 'isspace',\n",
       " 'istitle',\n",
       " 'isupper',\n",
       " 'join',\n",
       " 'ljust',\n",
       " 'lower',\n",
       " 'lstrip',\n",
       " 'maketrans',\n",
       " 'partition',\n",
       " 'replace',\n",
       " 'rfind',\n",
       " 'rindex',\n",
       " 'rjust',\n",
       " 'rpartition',\n",
       " 'rsplit',\n",
       " 'rstrip',\n",
       " 'split',\n",
       " 'splitlines',\n",
       " 'startswith',\n",
       " 'strip',\n",
       " 'swapcase',\n",
       " 'title',\n",
       " 'translate',\n",
       " 'upper',\n",
       " 'zfill']"
      ]
     },
     "execution_count": 3,
     "metadata": {},
     "output_type": "execute_result"
    }
   ],
   "source": [
    "n='Ayesha Dawood'\n",
    "dir(n)"
   ]
  },
  {
   "cell_type": "code",
   "execution_count": 4,
   "metadata": {},
   "outputs": [
    {
     "name": "stdout",
     "output_type": "stream",
     "text": [
      "Ayesha Dawood\n",
      "Ayesha dawood\n"
     ]
    }
   ],
   "source": [
    "name='Ayesha Dawood'\n",
    "print(name)\n",
    "print(name.capitalize()) #Only capitalize 1 character of string\n"
   ]
  },
  {
   "cell_type": "code",
   "execution_count": 5,
   "metadata": {},
   "outputs": [
    {
     "name": "stdout",
     "output_type": "stream",
     "text": [
      "ayesha dawood\n"
     ]
    }
   ],
   "source": [
    "name='Ayesha Dawood'\n",
    "print(name.casefold()) #lower all character of string"
   ]
  },
  {
   "cell_type": "code",
   "execution_count": 6,
   "metadata": {},
   "outputs": [
    {
     "name": "stdout",
     "output_type": "stream",
     "text": [
      "             Ayesha Dawood              \n"
     ]
    }
   ],
   "source": [
    "name='Ayesha Dawood'\n",
    "print(name.center(40)) #taking space of 40 character and pring name in the middle"
   ]
  },
  {
   "cell_type": "code",
   "execution_count": 7,
   "metadata": {},
   "outputs": [
    {
     "name": "stdout",
     "output_type": "stream",
     "text": [
      "2\n"
     ]
    }
   ],
   "source": [
    "name='Ayesha Dawood'\n",
    "print(name.count('a')) #print total number of a character like 'a'"
   ]
  },
  {
   "cell_type": "code",
   "execution_count": 8,
   "metadata": {},
   "outputs": [
    {
     "name": "stdout",
     "output_type": "stream",
     "text": [
      "b'Ayesha Dawood'\n"
     ]
    }
   ],
   "source": [
    "name='Ayesha Dawood'\n",
    "print(name.encode()) #encode the string"
   ]
  },
  {
   "cell_type": "code",
   "execution_count": 9,
   "metadata": {},
   "outputs": [
    {
     "name": "stdout",
     "output_type": "stream",
     "text": [
      "False\n"
     ]
    }
   ],
   "source": [
    "name='Ayesha Dawood'\n",
    "print(name.endswith('l')) #compare with end character of string and reture true or false"
   ]
  },
  {
   "cell_type": "code",
   "execution_count": 47,
   "metadata": {},
   "outputs": [
    {
     "name": "stdout",
     "output_type": "stream",
     "text": [
      "A\\yesha Dawood\n"
     ]
    }
   ],
   "source": [
    "name='A\\yesha Dawood'\n",
    "print(name.expandtabs(3)) #space between the character"
   ]
  },
  {
   "cell_type": "code",
   "execution_count": 11,
   "metadata": {},
   "outputs": [
    {
     "name": "stdout",
     "output_type": "stream",
     "text": [
      "-1\n"
     ]
    }
   ],
   "source": [
    "name='Ayesha Dawood'\n",
    "print(name.find('m')) #return the index of find character"
   ]
  },
  {
   "cell_type": "code",
   "execution_count": 12,
   "metadata": {},
   "outputs": [
    {
     "name": "stdout",
     "output_type": "stream",
     "text": [
      "My Name is Ayesha Dawood\n"
     ]
    }
   ],
   "source": [
    "name='My Name is {fname} {lname}'\n",
    "print(name.format(fname='Ayesha',lname='Dawood')) #Insert the fname and lname inside the placeholder{}, the fname and lname should be in fixed point"
   ]
  },
  {
   "cell_type": "code",
   "execution_count": 13,
   "metadata": {},
   "outputs": [
    {
     "name": "stdout",
     "output_type": "stream",
     "text": [
      "Ayesha Dawood\n"
     ]
    }
   ],
   "source": [
    "name={'fname':'Ayesha', 'lname':'Dawood'}\n",
    "print('{fname} {lname}'.format_map(name))"
   ]
  },
  {
   "cell_type": "code",
   "execution_count": 14,
   "metadata": {},
   "outputs": [
    {
     "name": "stdout",
     "output_type": "stream",
     "text": [
      "7\n"
     ]
    }
   ],
   "source": [
    "name='Ayesha Dawood' \n",
    "print(name.index('D'))  #return the index of specific character"
   ]
  },
  {
   "cell_type": "code",
   "execution_count": 15,
   "metadata": {},
   "outputs": [
    {
     "name": "stdout",
     "output_type": "stream",
     "text": [
      "True\n"
     ]
    }
   ],
   "source": [
    "\n",
    "name='AyeshaDawood43' \n",
    "print(name.isalnum()) #return if string is alphanumeic or not e.g character and number"
   ]
  },
  {
   "cell_type": "code",
   "execution_count": 16,
   "metadata": {},
   "outputs": [
    {
     "name": "stdout",
     "output_type": "stream",
     "text": [
      "False\n"
     ]
    }
   ],
   "source": [
    "name='Ayesha Dawood' \n",
    "print(name.isalpha()) #return true of false if string have all alphabets without space"
   ]
  },
  {
   "cell_type": "code",
   "execution_count": 17,
   "metadata": {},
   "outputs": [
    {
     "name": "stdout",
     "output_type": "stream",
     "text": [
      "True\n"
     ]
    }
   ],
   "source": [
    "name='Ayesha Dawood'\n",
    "print(name.isascii())"
   ]
  },
  {
   "cell_type": "code",
   "execution_count": 18,
   "metadata": {},
   "outputs": [
    {
     "name": "stdout",
     "output_type": "stream",
     "text": [
      "False\n"
     ]
    }
   ],
   "source": [
    "name='Ayesha Dawood'\n",
    "print(name.isdecimal()) #return if string have any decimal value"
   ]
  },
  {
   "cell_type": "code",
   "execution_count": 19,
   "metadata": {},
   "outputs": [
    {
     "name": "stdout",
     "output_type": "stream",
     "text": [
      "False\n"
     ]
    }
   ],
   "source": [
    "name='Ayesha Dawood' \n",
    "print(name.isdigit()) #return if string have any digits"
   ]
  },
  {
   "cell_type": "code",
   "execution_count": 20,
   "metadata": {},
   "outputs": [
    {
     "name": "stdout",
     "output_type": "stream",
     "text": [
      "True\n"
     ]
    }
   ],
   "source": [
    "name='AyeshaDawood' \n",
    "print(name.isidentifier()) #return true or false if string have some identifier like start with _,or no space between word"
   ]
  },
  {
   "cell_type": "code",
   "execution_count": 21,
   "metadata": {},
   "outputs": [
    {
     "name": "stdout",
     "output_type": "stream",
     "text": [
      "False\n"
     ]
    }
   ],
   "source": [
    "name='Ayesha Dawood'\n",
    "print(name.islower()) #return true or false if string have all characters are lower case"
   ]
  },
  {
   "cell_type": "code",
   "execution_count": 22,
   "metadata": {},
   "outputs": [
    {
     "name": "stdout",
     "output_type": "stream",
     "text": [
      "False\n",
      "True\n"
     ]
    }
   ],
   "source": [
    "name='Ayesha Dawood'\n",
    "print(name.isnumeric())\n",
    "number='12'\n",
    "print(number.isnumeric()) #return true or false if string have all characters are numeric"
   ]
  },
  {
   "cell_type": "code",
   "execution_count": 23,
   "metadata": {},
   "outputs": [
    {
     "name": "stdout",
     "output_type": "stream",
     "text": [
      "True\n"
     ]
    }
   ],
   "source": [
    "name='Ayesha Dawood'\n",
    "print(name.isprintable()) #return true or false if string have all characters are printable"
   ]
  },
  {
   "cell_type": "code",
   "execution_count": 24,
   "metadata": {},
   "outputs": [
    {
     "name": "stdout",
     "output_type": "stream",
     "text": [
      "False\n",
      "True\n"
     ]
    }
   ],
   "source": [
    "name='Ayesha Dawood'\n",
    "print(name.isspace())\n",
    "name='  '\n",
    "print(name.isspace())  #returns True if all the characters in a string are whitespaces, otherwise False"
   ]
  },
  {
   "cell_type": "code",
   "execution_count": 25,
   "metadata": {},
   "outputs": [
    {
     "name": "stdout",
     "output_type": "stream",
     "text": [
      "True\n"
     ]
    }
   ],
   "source": [
    "name='Ayesha Dawood'\n",
    "print(name.istitle()) #return true or false if each word start with an upper case letter"
   ]
  },
  {
   "cell_type": "code",
   "execution_count": 26,
   "metadata": {},
   "outputs": [
    {
     "name": "stdout",
     "output_type": "stream",
     "text": [
      "False\n",
      "True\n"
     ]
    }
   ],
   "source": [
    "name='Ayesha Dawood'\n",
    "print(name.isupper())\n",
    "name='AYEHSA DAWOOD'\n",
    "print(name.isupper())  #return true or false if whole string will have upper case letter"
   ]
  },
  {
   "cell_type": "code",
   "execution_count": 27,
   "metadata": {},
   "outputs": [
    {
     "name": "stdout",
     "output_type": "stream",
     "text": [
      "Ayseha  Dawood\n"
     ]
    }
   ],
   "source": [
    "name={'Ayseha','Dawood'}\n",
    "print('  '.join(name)) #method takes all items in an iterable and joins them into one string. A string must be specified as the separator."
   ]
  },
  {
   "cell_type": "code",
   "execution_count": 28,
   "metadata": {},
   "outputs": [
    {
     "name": "stdout",
     "output_type": "stream",
     "text": [
      "Ayesha               Dawood\n"
     ]
    }
   ],
   "source": [
    "name='Ayesha '\n",
    "name1=name.ljust(20)\n",
    "print(name1,\"Dawood\")  #return 20 character space from left justified"
   ]
  },
  {
   "cell_type": "code",
   "execution_count": 29,
   "metadata": {},
   "outputs": [
    {
     "name": "stdout",
     "output_type": "stream",
     "text": [
      "ayesha dawood\n"
     ]
    }
   ],
   "source": [
    "name='Ayesha Dawood'\n",
    "print(name.lower())  #return all character in lower case"
   ]
  },
  {
   "cell_type": "code",
   "execution_count": 30,
   "metadata": {},
   "outputs": [
    {
     "name": "stdout",
     "output_type": "stream",
     "text": [
      "   Ayesha Dawood   \n",
      "Ayesha Dawood   \n"
     ]
    }
   ],
   "source": [
    "\n",
    "name='   Ayesha Dawood   '\n",
    "print(name)\n",
    "name='   Ayesha Dawood   '\n",
    "print(name.lstrip())   #remove space for letf side"
   ]
  },
  {
   "cell_type": "code",
   "execution_count": 31,
   "metadata": {},
   "outputs": [
    {
     "name": "stdout",
     "output_type": "stream",
     "text": [
      "('Ayesha ', 'Dawood', '')\n"
     ]
    }
   ],
   "source": [
    "\n",
    "name='Ayesha Dawood'\n",
    "print(name.partition('Dawood'))  #return a tuple"
   ]
  },
  {
   "cell_type": "code",
   "execution_count": 32,
   "metadata": {},
   "outputs": [
    {
     "name": "stdout",
     "output_type": "stream",
     "text": [
      "Nomi Dawood\n"
     ]
    }
   ],
   "source": [
    "name='Ayesha Dawood'\n",
    "print(name.replace('Ayesha','Nomi'))  #replace the word to another word"
   ]
  },
  {
   "cell_type": "code",
   "execution_count": 33,
   "metadata": {},
   "outputs": [
    {
     "name": "stdout",
     "output_type": "stream",
     "text": [
      "12\n"
     ]
    }
   ],
   "source": [
    "name='Ayesha Dawood'\n",
    "print(name.rfind('d')) #return the index almost rindex(),if value not found return -1"
   ]
  },
  {
   "cell_type": "code",
   "execution_count": 34,
   "metadata": {},
   "outputs": [
    {
     "name": "stdout",
     "output_type": "stream",
     "text": [
      "0\n"
     ]
    }
   ],
   "source": [
    "\n",
    "name='Ayesha Dawood'\n",
    "print(name.rindex('A')) #return the index almost rindex(),if value not found return error"
   ]
  },
  {
   "cell_type": "code",
   "execution_count": 35,
   "metadata": {},
   "outputs": [
    {
     "name": "stdout",
     "output_type": "stream",
     "text": [
      "            Ayesha Dawood\n"
     ]
    }
   ],
   "source": [
    "name='Ayesha Dawood'\n",
    "print(name.rjust(25)) #return a justified version of string"
   ]
  },
  {
   "cell_type": "code",
   "execution_count": 36,
   "metadata": {},
   "outputs": [
    {
     "name": "stdout",
     "output_type": "stream",
     "text": [
      "('Ayesha ', 'Dawood', '')\n"
     ]
    }
   ],
   "source": [
    "name='Ayesha Dawood'\n",
    "print(name.rpartition('Dawood'))"
   ]
  },
  {
   "cell_type": "code",
   "execution_count": 37,
   "metadata": {},
   "outputs": [
    {
     "name": "stdout",
     "output_type": "stream",
     "text": [
      "['Ayesha', 'Dawood']\n"
     ]
    }
   ],
   "source": [
    "name='Ayesha Dawood'\n",
    "print(name.rsplit()) #return in list"
   ]
  },
  {
   "cell_type": "code",
   "execution_count": 45,
   "metadata": {
    "scrolled": true
   },
   "outputs": [
    {
     "name": "stdout",
     "output_type": "stream",
     "text": [
      "Ayesha Dawood\n"
     ]
    }
   ],
   "source": [
    "name='Ayesha Dawood'\n",
    "print(name.rstrip())"
   ]
  },
  {
   "cell_type": "code",
   "execution_count": null,
   "metadata": {},
   "outputs": [],
   "source": [
    "name='Ayesha Dawood'\n",
    "print(name.split())"
   ]
  },
  {
   "cell_type": "code",
   "execution_count": null,
   "metadata": {},
   "outputs": [],
   "source": [
    "name='Ayesha Dawood'\n",
    "print(name.splitlines()) #return a single work list"
   ]
  },
  {
   "cell_type": "code",
   "execution_count": 39,
   "metadata": {},
   "outputs": [
    {
     "name": "stdout",
     "output_type": "stream",
     "text": [
      "True\n",
      "False\n"
     ]
    }
   ],
   "source": [
    "name='Ayesha Dawood'\n",
    "print(name.startswith('A'))\n",
    "name='Ayesha Dawood'\n",
    "print(name.startswith('D')) #return true or false if the given character are starting character of whole string"
   ]
  },
  {
   "cell_type": "code",
   "execution_count": 40,
   "metadata": {},
   "outputs": [
    {
     "name": "stdout",
     "output_type": "stream",
     "text": [
      "Ayesha Dawood\n"
     ]
    }
   ],
   "source": [
    "name='Ayesha Dawood'\n",
    "print(name.strip())"
   ]
  },
  {
   "cell_type": "code",
   "execution_count": 41,
   "metadata": {},
   "outputs": [
    {
     "name": "stdout",
     "output_type": "stream",
     "text": [
      "aYESHA dAWOOD\n"
     ]
    }
   ],
   "source": [
    "name= 'Ayesha Dawood'\n",
    "print(name.swapcase())  #return first character of every work in lower and other whole string will be UPPER case"
   ]
  },
  {
   "cell_type": "code",
   "execution_count": 42,
   "metadata": {},
   "outputs": [
    {
     "name": "stdout",
     "output_type": "stream",
     "text": [
      "Ayesha Dawood\n"
     ]
    }
   ],
   "source": [
    "name='Ayesha Dawood'\n",
    "print(name.title()) #convert the first character of every word in UPPER Case"
   ]
  },
  {
   "cell_type": "code",
   "execution_count": 43,
   "metadata": {},
   "outputs": [
    {
     "name": "stdout",
     "output_type": "stream",
     "text": [
      "AYESHA DAWOOD\n"
     ]
    }
   ],
   "source": [
    "name='Ayesha Dawood'\n",
    "print(name.upper()) #return the whole string in upper case"
   ]
  },
  {
   "cell_type": "code",
   "execution_count": 44,
   "metadata": {},
   "outputs": [
    {
     "name": "stdout",
     "output_type": "stream",
     "text": [
      "0Ayesha Dawood\n"
     ]
    }
   ],
   "source": [
    "name='Ayesha Dawood'\n",
    "print(name.zfill(14)) #add zeros after the total character of string with includes spaces"
   ]
  }
 ],
 "metadata": {
  "kernelspec": {
   "display_name": "Python 3",
   "language": "python",
   "name": "python3"
  },
  "language_info": {
   "codemirror_mode": {
    "name": "ipython",
    "version": 3
   },
   "file_extension": ".py",
   "mimetype": "text/x-python",
   "name": "python",
   "nbconvert_exporter": "python",
   "pygments_lexer": "ipython3",
   "version": "3.7.2"
  }
 },
 "nbformat": 4,
 "nbformat_minor": 4
}
